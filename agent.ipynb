{
 "cells": [
  {
   "cell_type": "code",
   "execution_count": null,
   "id": "ef0cb53a",
   "metadata": {},
   "outputs": [],
   "source": [
    "from __future__ import annotations\n",
    "import os\n",
    "from interpreter import OpenInterpreter\n",
    "from interpreter.capture import take_screenshot\n",
    "\n",
    "interpreter = OpenInterpreter()\n",
    "interpreter.llm.model = os.getenv(\"MODEL_NAME\")\n",
    "interpreter.llm.api_key = os.getenv(\"AZURE_OPENAI_API_KEY\")\n",
    "interpreter.llm.api_base = os.getenv(\"AZURE_OPENAI_ENDPOINT\")\n",
    "interpreter.llm.api_version = os.getenv(\"AZURE_OPENAI_API_VERSION\")\n",
    "interpreter.auto_run = True\n",
    "interpreter.system_message = \"\"\"\n",
    "YOU ARE A GUI AGENT, WHO PERFORMS KEYBOARD ACTIONS USING PYTHON SCRIPTS.\n",
    "\"\"\"\n",
    "\n",
    "\n",
    "# Query to ask the assistant\n",
    "query = \"open ms teams, msg Harshit Sharma\"\n",
    "# query = \"In this sheet, create 10 students 5 subject and give them the average score and percentage in new column.\"\n",
    "# query = \"In this sheet, create sheet 2. copy all the data from sheet 1 and paste it in sheet 2.\"\n",
    "\n",
    "# Build the message with optional image\n",
    "message_with_image = [{\"role\": \"user\", \"type\": \"message\", \"content\": query},\n",
    "                      {\"role\": \"user\", \"type\": \"image\", \"format\": \"path\", \"content\": take_screenshot()}]\n",
    "\n",
    "interpreter.chat(message_with_image)"
   ]
  },
  {
   "cell_type": "code",
   "execution_count": 23,
   "id": "6e9c14ad",
   "metadata": {},
   "outputs": [
    {
     "data": {
      "text/plain": [
       "[{'role': 'user',\n",
       "  'type': 'message',\n",
       "  'content': 'open ms teams, msg Harshit Sharma'},\n",
       " {'role': 'user',\n",
       "  'type': 'image',\n",
       "  'format': 'path',\n",
       "  'content': 'screenshots\\\\screenshot_20251015_202040.png'},\n",
       " {'role': 'assistant',\n",
       "  'type': 'message',\n",
       "  'content': 'Step-by-step Action Plan:\\n\\n1. Open Microsoft Teams via Windows search using keyboard shortcuts.\\n2. Navigate to the chat/search bar in Teams to locate \"Harshit Sharma\".\\n3. Select \"Harshit Sharma\" from search results using Tab/Arrow keys and Enter.\\n4. Move focus to the message input area (typically Tab several times).\\n5. Type your message and press Enter to send.\\n\\nExecution:\\n\\nI\\'ll use pyautogui and keyboard shortcuts only.\\n\\nPython script using pyautogui and time:\\n```python\\nimport pyautogui\\nimport time\\n\\n# Step 1: Open Windows search and launch Teams\\npyautogui.hotkey(\\'win\\')\\ntime.sleep(1)\\npyautogui.write(\\'Teams\\')\\ntime.sleep(1)\\npyautogui.press(\\'enter\\')\\ntime.sleep(5)  # Allow Teams to launch\\n\\n# Step 2: Navigate to search/chat bar in Teams\\npyautogui.hotkey(\\'ctrl\\', \\'e\\')  # Move focus to Teams search bar\\ntime.sleep(1)\\npyautogui.write(\\'Harshit Sharma\\')\\ntime.sleep(1)\\npyautogui.press(\\'enter\\')\\ntime.sleep(2) # Allow chat to load\\n\\n# Step 3: Move focus to message input (usually Tab 2-4 times)\\nfor _ in range(3):\\n    pyautogui.press(\\'tab\\')\\n    time.sleep(0.5)\\n# Step 4: Type message\\npyautogui.write(\\'Hello Harshit, this is an automated message sent via keyboard shortcuts only.\\')\\ntime.sleep(1)\\npyautogui.press(\\'enter\\')\\n```\\n\\nSummary:\\nThis sequence will open Teams, search for Harshit Sharma, focus the chat, type a message, and send it, using only keyboard actions'}]"
      ]
     },
     "execution_count": 23,
     "metadata": {},
     "output_type": "execute_result"
    }
   ],
   "source": [
    "interpreter.messages"
   ]
  },
  {
   "cell_type": "code",
   "execution_count": null,
   "id": "13405783",
   "metadata": {},
   "outputs": [],
   "source": []
  }
 ],
 "metadata": {
  "kernelspec": {
   "display_name": "py3.10",
   "language": "python",
   "name": "python3"
  },
  "language_info": {
   "codemirror_mode": {
    "name": "ipython",
    "version": 3
   },
   "file_extension": ".py",
   "mimetype": "text/x-python",
   "name": "python",
   "nbconvert_exporter": "python",
   "pygments_lexer": "ipython3",
   "version": "3.10.18"
  }
 },
 "nbformat": 4,
 "nbformat_minor": 5
}
