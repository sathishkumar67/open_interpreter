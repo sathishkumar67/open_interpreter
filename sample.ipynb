{
 "cells": [
  {
   "cell_type": "code",
   "execution_count": 1,
   "id": "2beca7a3",
   "metadata": {},
   "outputs": [],
   "source": [
    "from interpreter import interpreter\n",
    "import os"
   ]
  },
  {
   "cell_type": "code",
   "execution_count": 4,
   "id": "3fc9e167",
   "metadata": {},
   "outputs": [
    {
     "data": {
      "text/html": [
       "<pre style=\"white-space:pre;overflow-x:auto;line-height:normal;font-family:Menlo,'DejaVu Sans Mono',consolas,'Courier New',monospace\"></pre>\n"
      ],
      "text/plain": []
     },
     "metadata": {},
     "output_type": "display_data"
    },
    {
     "name": "stdout",
     "output_type": "stream",
     "text": [
      "[{'role': 'assistant', 'type': 'message', 'content': 'I am a helpful AI assistant designed to answer your questions, solve problems using mathematics, and provide guidance and support. Let me know how I can assist you today!'}]\n"
     ]
    }
   ],
   "source": [
    "interpreter.llm.model = \"azure/gpt-4.1\"\n",
    "interpreter.llm.api_key = os.getenv(\"AZURE_OPENAI_API_KEY\")\n",
    "interpreter.llm.api_base = os.getenv(\"AZURE_OPENAI_ENDPOINT\")\n",
    "interpreter.llm.api_version = os.getenv(\"AZURE_OPENAI_API_VERSION\")\n",
    "interpreter.auto_run = True\n",
    "interpreter.system_message = \"You are a helpful assistant, who use maths to answer questions.\"\n",
    "\n",
    "output = interpreter.chat(\"who are you?\")\n",
    "\n",
    "print(output)"
   ]
  },
  {
   "cell_type": "code",
   "execution_count": 9,
   "id": "7eac7309",
   "metadata": {},
   "outputs": [
    {
     "data": {
      "text/html": [
       "<pre style=\"white-space:pre;overflow-x:auto;line-height:normal;font-family:Menlo,'DejaVu Sans Mono',consolas,'Courier New',monospace\">c:\\Users\\sathish\\miniconda3\\envs\\py3.10\\lib\\site-packages\\rich\\live.py:231: UserWarning: install \"ipywidgets\" for \n",
       "Jupyter support\n",
       "  warnings.warn('install \"ipywidgets\" for Jupyter support')\n",
       "</pre>\n"
      ],
      "text/plain": [
       "c:\\Users\\sathish\\miniconda3\\envs\\py3.10\\lib\\site-packages\\rich\\live.py:231: UserWarning: install \"ipywidgets\" for \n",
       "Jupyter support\n",
       "  warnings.warn('install \"ipywidgets\" for Jupyter support')\n"
      ]
     },
     "metadata": {},
     "output_type": "display_data"
    },
    {
     "data": {
      "text/html": [
       "<pre style=\"white-space:pre;overflow-x:auto;line-height:normal;font-family:Menlo,'DejaVu Sans Mono',consolas,'Courier New',monospace\"></pre>\n"
      ],
      "text/plain": []
     },
     "metadata": {},
     "output_type": "display_data"
    },
    {
     "data": {
      "text/html": [
       "<pre style=\"white-space:pre;overflow-x:auto;line-height:normal;font-family:Menlo,'DejaVu Sans Mono',consolas,'Courier New',monospace\"></pre>\n"
      ],
      "text/plain": []
     },
     "metadata": {},
     "output_type": "display_data"
    },
    {
     "data": {
      "text/html": [
       "<pre style=\"white-space:pre;overflow-x:auto;line-height:normal;font-family:Menlo,'DejaVu Sans Mono',consolas,'Courier New',monospace\"></pre>\n"
      ],
      "text/plain": []
     },
     "metadata": {},
     "output_type": "display_data"
    },
    {
     "name": "stdout",
     "output_type": "stream",
     "text": [
      "[{'role': 'assistant', 'type': 'message', 'content': \"Description of the image:\\nThe image shows a road disappearing into the horizon with an overpass crossing above it. The sky is cloudy with hints of color from the setting (or rising) sun. In the foreground, a person's hand is holding a mobile phone, using it to take a picture of the same scene. The phone's screen displays the road and the overpass, mimicking the main view in the photo.\\n\\nNext, to open a new tab in your browser using pyautogui, I will execute the keyboard shortcut ctrl + t.\"}, {'role': 'assistant', 'type': 'code', 'format': 'python', 'content': \"import pyautogui\\npyautogui.hotkey('ctrl', 't')\"}, {'role': 'computer', 'type': 'console', 'format': 'output', 'content': ''}, {'role': 'assistant', 'type': 'message', 'content': 'I have described the image and executed the pyautogui command to press Ctrl + T, which should open a new tab in your browser. \\n\\nIf you need further automation or have another task, please let me know!'}]\n"
     ]
    }
   ],
   "source": [
    "message_with_image = [\n",
    "        {\"role\": \"user\", \"type\": \"message\", \"content\": \"Describe this image and then, using pyautogui, press ctrl + t to open a new tab in the browser.\"},\n",
    "        {\"role\": \"user\", \"type\": \"image\", \"format\": \"path\", \"content\": \"image.png\"}\n",
    "    ]\n",
    "output = interpreter.chat(message_with_image)\n",
    "print(output)"
   ]
  },
  {
   "cell_type": "markdown",
   "id": "effea4d0",
   "metadata": {},
   "source": [
    "[{'role': 'assistant', 'type': 'message', 'content': \"Description of the image:\\nThe image shows a road disappearing into the horizon with an overpass crossing above it. The sky is cloudy with hints of color from the setting (or rising) sun. In the foreground, a person's hand is holding a mobile phone, using it to take a picture of the same scene. The phone's screen displays the road and the overpass, mimicking the main view in the photo.\\n\\nNext, to open a new tab in your browser using pyautogui, I will execute the keyboard shortcut ctrl + t.\"}, {'role': 'assistant', 'type': 'code', 'format': 'python', 'content': \"import pyautogui\\npyautogui.hotkey('ctrl', 't')\"}, {'role': 'computer', 'type': 'console', 'format': 'output', 'content': ''}, {'role': 'assistant', 'type': 'message', 'content': 'I have described the image and executed the pyautogui command to press Ctrl + T, which should open a new tab in your browser. \\n\\nIf you need further automation or have another task, please let me know!'}]"
   ]
  },
  {
   "cell_type": "code",
   "execution_count": null,
   "id": "37e06d80",
   "metadata": {},
   "outputs": [],
   "source": [
    "[{'role': 'assistant', 'type': 'message', 'content': \"Description of the image:\\nThe image shows a road disappearing into the horizon with an overpass crossing above it. The sky is cloudy with hints of color from the setting (or rising) sun. In the foreground, a person's hand is holding a mobile phone, using it to take a picture of the same scene. The phone's screen displays the road and the overpass, mimicking the main view in the photo.\\n\\nNext, to open a new tab in your browser using pyautogui, I will execute the keyboard shortcut ctrl + t.\"}, {'role': 'assistant', 'type': 'code', 'format': 'python', 'content': \"import pyautogui\\npyautogui.hotkey('ctrl', 't')\"}, {'role': 'computer', 'type': 'console', 'format': 'output', 'content': ''}, {'role': 'assistant', 'type': 'message', 'content': 'I have described the image and executed the pyautogui command to press Ctrl + T, which should open a new tab in your browser. \\n\\nIf you need further automation or have another task, please let me know!'}]"
   ]
  }
 ],
 "metadata": {
  "kernelspec": {
   "display_name": "py3.10",
   "language": "python",
   "name": "python3"
  },
  "language_info": {
   "codemirror_mode": {
    "name": "ipython",
    "version": 3
   },
   "file_extension": ".py",
   "mimetype": "text/x-python",
   "name": "python",
   "nbconvert_exporter": "python",
   "pygments_lexer": "ipython3",
   "version": "3.10.18"
  }
 },
 "nbformat": 4,
 "nbformat_minor": 5
}
