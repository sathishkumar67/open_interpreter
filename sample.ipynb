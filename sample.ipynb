{
 "cells": [
  {
   "cell_type": "code",
   "execution_count": 1,
   "id": "2beca7a3",
   "metadata": {},
   "outputs": [],
   "source": [
    "from interpreter import interpreter\n",
    "import os"
   ]
  },
  {
   "cell_type": "code",
   "execution_count": 2,
   "id": "3fc9e167",
   "metadata": {},
   "outputs": [
    {
     "data": {
      "text/html": [
       "<pre style=\"white-space:pre;overflow-x:auto;line-height:normal;font-family:Menlo,'DejaVu Sans Mono',consolas,'Courier New',monospace\">c:\\Users\\sathish\\miniconda3\\envs\\py3.10\\lib\\site-packages\\rich\\live.py:231: UserWarning: install \"ipywidgets\" for \n",
       "Jupyter support\n",
       "  warnings.warn('install \"ipywidgets\" for Jupyter support')\n",
       "</pre>\n"
      ],
      "text/plain": [
       "c:\\Users\\sathish\\miniconda3\\envs\\py3.10\\lib\\site-packages\\rich\\live.py:231: UserWarning: install \"ipywidgets\" for \n",
       "Jupyter support\n",
       "  warnings.warn('install \"ipywidgets\" for Jupyter support')\n"
      ]
     },
     "metadata": {},
     "output_type": "display_data"
    },
    {
     "data": {
      "text/html": [
       "<pre style=\"white-space:pre;overflow-x:auto;line-height:normal;font-family:Menlo,'DejaVu Sans Mono',consolas,'Courier New',monospace\"></pre>\n"
      ],
      "text/plain": []
     },
     "metadata": {},
     "output_type": "display_data"
    },
    {
     "data": {
      "text/html": [
       "<pre style=\"white-space:pre;overflow-x:auto;line-height:normal;font-family:Menlo,'DejaVu Sans Mono',consolas,'Courier New',monospace\"></pre>\n"
      ],
      "text/plain": []
     },
     "metadata": {},
     "output_type": "display_data"
    },
    {
     "name": "stdout",
     "output_type": "stream",
     "text": [
      "[{'role': 'assistant', 'type': 'code', 'format': 'python', 'content': \"import pyautogui\\nimport time\\n\\ntime.sleep(2)  # Give you 2 seconds to focus the browser\\npyautogui.hotkey('ctrl', 't')\"}, {'role': 'computer', 'type': 'console', 'format': 'output', 'content': ''}, {'role': 'assistant', 'type': 'message', 'content': 'I have simulated the Ctrl + T keyboard shortcut using pyautogui. If your browser window was focused, this should have opened a new tab.\\n\\nIf you want to automate more browser actions or control a different application, let me know your goal!'}]\n"
     ]
    }
   ],
   "source": [
    "interpreter.llm.model = \"azure/gpt-4.1\"\n",
    "interpreter.llm.api_key = os.getenv(\"AZURE_OPENAI_API_KEY\")\n",
    "interpreter.llm.api_base = os.getenv(\"AZURE_OPENAI_ENDPOINT\")\n",
    "interpreter.llm.api_version = os.getenv(\"AZURE_OPENAI_API_VERSION\")\n",
    "interpreter.auto_run = True\n",
    "\n",
    "output = interpreter.chat(\"using pyautogui, press ctrl + t to open a new tab in the browser\")\n",
    "\n",
    "print(output)"
   ]
  },
  {
   "cell_type": "code",
   "execution_count": 2,
   "id": "c1932be1",
   "metadata": {},
   "outputs": [],
   "source": [
    "import os\n",
    "from autogen import AssistantAgent, UserProxyAgent\n",
    "\n",
    "# Azure OpenAI configuration\n",
    "azure_config = {\n",
    "    \"model\": \"gpt-4.1\",  # use deployment name, not model name\n",
    "    \"api_key\": os.getenv(\"AZURE_OPENAI_API_KEY\"),\n",
    "    \"api_type\": \"azure\",\n",
    "    \"base_url\": os.getenv(\"AZURE_OPENAI_ENDPOINT\"),\n",
    "    \"api_version\": os.getenv(\"AZURE_OPENAI_API_VERSION\"),\n",
    "}\n",
    "\n",
    "# Create an assistant agent using Azure\n",
    "# assistant = AssistantAgent(\n",
    "#     name=\"azure_agent\",\n",
    "#     llm_config=azure_config,\n",
    "# )\n",
    "\n",
    "# # Create a user proxy agent\n",
    "# user = UserProxyAgent(name=\"user\", code_execution_config={\"use_docker\": False})\n",
    "\n",
    "# # Start a conversation\n",
    "# user.initiate_chat(assistant, message=\"Write a Python function that sorts a list of numbers.\")"
   ]
  },
  {
   "cell_type": "code",
   "execution_count": null,
   "id": "40122de7",
   "metadata": {},
   "outputs": [
    {
     "name": "stdout",
     "output_type": "stream",
     "text": [
      "\u001b[33mExecutor\u001b[0m (to chat_manager):\n",
      "\n",
      "Create a python script that find fibonacci numbers recursively and print the result.\n",
      "\n",
      "--------------------------------------------------------------------------------\n",
      "\u001b[32m\n",
      "Next speaker: Coder\n",
      "\u001b[0m\n",
      "\u001b[33mCoder\u001b[0m (to chat_manager):\n",
      "\n",
      "Certainly! Below is a Python script that finds the n-th Fibonacci number recursively and prints the result. It also includes a main section that prompts the user for input:\n",
      "\n",
      "```python\n",
      "def fibonacci(n):\n",
      "    \"\"\"Return the nth Fibonacci number using recursion.\"\"\"\n",
      "    if n <= 0:\n",
      "        return 0\n",
      "    elif n == 1:\n",
      "        return 1\n",
      "    else:\n",
      "        return fibonacci(n-1) + fibonacci(n-2)\n",
      "\n",
      "if __name__ == \"__main__\":\n",
      "    n = int(input(\"Enter the position (n) for Fibonacci number: \"))\n",
      "    result = fibonacci(n)\n",
      "    print(f\"Fibonacci number at position {n} is: {result}\")\n",
      "```\n",
      "\n",
      "**Usage Example**:\n",
      "```\n",
      "Enter the position (n) for Fibonacci number: 7\n",
      "Fibonacci number at position 7 is: 13\n",
      "```\n",
      "\n",
      "**Notes**:\n",
      "- The sequence is: 0, 1, 1, 2, 3, 5, 8, 13, ...\n",
      "- The recursion in this implementation is simple but not efficient for large values of n. For large `n`, a memoization approach is recommended.\n",
      "- The function returns `0` for n <= 0 as per a common convention; modify this logic if you need a different Fibonacci base case.\n",
      "\n",
      "--------------------------------------------------------------------------------\n",
      "\u001b[32m\n",
      "Next speaker: Executor\n",
      "\u001b[0m\n",
      "\u001b[31m\n",
      ">>>>>>>> EXECUTING CODE BLOCK 0 (inferred language is python)...\u001b[0m\n"
     ]
    }
   ],
   "source": [
    "from autogen import AssistantAgent, UserProxyAgent, GroupChat, GroupChatManager\n",
    "\n",
    "# Create specialized agents\n",
    "planner = AssistantAgent(\n",
    "    name=\"Planner\",\n",
    "    system_message=\"You are a planning assistant. Create step-by-step plans for complex tasks.\",\n",
    "    llm_config=azure_config\n",
    ")\n",
    "\n",
    "coder = AssistantAgent(\n",
    "    name=\"Coder\", \n",
    "    system_message=\"You are a Python coding expert. Write and debug code based on plans.\",\n",
    "    llm_config= azure_config\n",
    ")\n",
    "\n",
    "executor = UserProxyAgent(\n",
    "    name=\"Executor\",\n",
    "    system_message=\"You execute code and report results.\",\n",
    "    human_input_mode=\"NEVER\",\n",
    "    code_execution_config={\"use_docker\": False}\n",
    ")\n",
    "\n",
    "# Create and manage group chat\n",
    "groupchat = GroupChat(\n",
    "    agents=[planner, coder, executor], \n",
    "    messages=[], \n",
    "    max_round=6\n",
    ")\n",
    "\n",
    "manager = GroupChatManager(groupchat=groupchat, llm_config=azure_config)\n",
    "\n",
    "# Start the collaborative task\n",
    "executor.initiate_chat(\n",
    "    manager,\n",
    "    message=\"Create a python script that find fibonacci numbers recursively and print the result.\"\n",
    ")"
   ]
  },
  {
   "cell_type": "code",
   "execution_count": null,
   "id": "16185c8e",
   "metadata": {},
   "outputs": [],
   "source": []
  },
  {
   "cell_type": "code",
   "execution_count": null,
   "id": "21dc58c0",
   "metadata": {},
   "outputs": [],
   "source": []
  }
 ],
 "metadata": {
  "kernelspec": {
   "display_name": "py3.10",
   "language": "python",
   "name": "python3"
  },
  "language_info": {
   "codemirror_mode": {
    "name": "ipython",
    "version": 3
   },
   "file_extension": ".py",
   "mimetype": "text/x-python",
   "name": "python",
   "nbconvert_exporter": "python",
   "pygments_lexer": "ipython3",
   "version": "3.10.18"
  }
 },
 "nbformat": 4,
 "nbformat_minor": 5
}
