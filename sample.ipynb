{
 "cells": [
  {
   "cell_type": "code",
   "execution_count": 10,
   "id": "2beca7a3",
   "metadata": {},
   "outputs": [],
   "source": [
    "from interpreter import interpreter\n",
    "import os"
   ]
  },
  {
   "cell_type": "code",
   "execution_count": 11,
   "id": "3fc9e167",
   "metadata": {},
   "outputs": [
    {
     "data": {
      "text/html": [
       "<pre style=\"white-space:pre;overflow-x:auto;line-height:normal;font-family:Menlo,'DejaVu Sans Mono',consolas,'Courier New',monospace\">c:\\Users\\sathish\\miniconda3\\envs\\py3.10\\lib\\site-packages\\rich\\live.py:231: UserWarning: install \"ipywidgets\" for \n",
       "Jupyter support\n",
       "  warnings.warn('install \"ipywidgets\" for Jupyter support')\n",
       "</pre>\n"
      ],
      "text/plain": [
       "c:\\Users\\sathish\\miniconda3\\envs\\py3.10\\lib\\site-packages\\rich\\live.py:231: UserWarning: install \"ipywidgets\" for \n",
       "Jupyter support\n",
       "  warnings.warn('install \"ipywidgets\" for Jupyter support')\n"
      ]
     },
     "metadata": {},
     "output_type": "display_data"
    },
    {
     "data": {
      "text/html": [
       "<pre style=\"white-space:pre;overflow-x:auto;line-height:normal;font-family:Menlo,'DejaVu Sans Mono',consolas,'Courier New',monospace\"></pre>\n"
      ],
      "text/plain": []
     },
     "metadata": {},
     "output_type": "display_data"
    },
    {
     "data": {
      "text/html": [
       "<pre style=\"white-space:pre;overflow-x:auto;line-height:normal;font-family:Menlo,'DejaVu Sans Mono',consolas,'Courier New',monospace\"></pre>\n"
      ],
      "text/plain": []
     },
     "metadata": {},
     "output_type": "display_data"
    },
    {
     "name": "stdout",
     "output_type": "stream",
     "text": [
      "[{'role': 'assistant', 'type': 'code', 'format': 'python', 'content': 'import pyautogui\\nimport time\\n\\n# Wait for a short moment to let user focus the browser\\nprint(\"Switch to your browser window in the next 3 seconds...\")\\ntime.sleep(3)\\n\\n# Press Ctrl+T (Windows and Linux)\\npyautogui.hotkey(\\'ctrl\\', \\'t\\')\\nprint(\\'Pressed Ctrl+T to open a new tab.\\')'}, {'role': 'computer', 'type': 'console', 'format': 'output', 'content': 'Switch to your browser window in the next 3 seconds...\\nPressed Ctrl+T to open a new tab.\\n'}, {'role': 'assistant', 'type': 'message', 'content': 'The Ctrl+T hotkey has been sent using pyautogui. If your browser window was in focus, you should see a new tab opened now.\\n\\nLet me know if you need to automate any other tasks!'}]\n"
     ]
    }
   ],
   "source": [
    "interpreter.llm.model = \"azure/gpt-4.1\"\n",
    "interpreter.llm.api_key = os.getenv(\"AZURE_OPENAI_API_KEY\")\n",
    "interpreter.llm.api_base = os.getenv(\"AZURE_OPENAI_ENDPOINT\")\n",
    "interpreter.llm.api_version = os.getenv(\"AZURE_OPENAI_API_VERSION\")\n",
    "interpreter.auto_run = True\n",
    "\n",
    "output = interpreter.chat(\"using pyautogui, press ctrl + t to open a new tab in the browser\")\n",
    "\n",
    "print(output)"
   ]
  },
  {
   "cell_type": "code",
   "execution_count": 17,
   "id": "c1932be1",
   "metadata": {},
   "outputs": [
    {
     "name": "stdout",
     "output_type": "stream",
     "text": [
      "\u001b[33muser\u001b[0m (to azure_agent):\n",
      "\n",
      "Write a Python function that sorts a list of numbers.\n",
      "\n",
      "--------------------------------------------------------------------------------\n",
      "\u001b[33mazure_agent\u001b[0m (to user):\n",
      "\n",
      "Plan:\n",
      "- I'll write a Python function named sort_numbers that takes a list of numbers as its argument and returns a sorted version of the list in ascending order.\n",
      "- I'll use Python's built-in sorted() function for simplicity and reliability.\n",
      "- I'll output this code so you can execute it and verify.\n",
      "\n",
      "Here's the code:\n",
      "\n",
      "```python\n",
      "def sort_numbers(numbers):\n",
      "    \"\"\"\n",
      "    Sorts a list of numbers in ascending order.\n",
      "\n",
      "    :param numbers: List of numeric values (int or float)\n",
      "    :return: Sorted list of numbers\n",
      "    \"\"\"\n",
      "    return sorted(numbers)\n",
      "\n",
      "# Example usage\n",
      "numbers = [5, 2, 9, 1, 5, 6]\n",
      "sorted_numbers = sort_numbers(numbers)\n",
      "print(\"Sorted numbers:\", sorted_numbers)\n",
      "```\n",
      "\n",
      "Please execute the code to see the sorted list. Let me know if you'd like to sort in descending order or have more requirements! TERMINATE\n",
      "\n",
      "--------------------------------------------------------------------------------\n",
      "\u001b[31m\n",
      ">>>>>>>> NO HUMAN INPUT RECEIVED.\u001b[0m\n",
      "\u001b[31m\n",
      ">>>>>>>> USING AUTO REPLY...\u001b[0m\n",
      "\u001b[31m\n",
      ">>>>>>>> EXECUTING CODE BLOCK 0 (inferred language is python)...\u001b[0m\n",
      "\u001b[33muser\u001b[0m (to azure_agent):\n",
      "\n",
      "exitcode: 0 (execution succeeded)\n",
      "Code output: \n",
      "Sorted numbers: [1, 2, 5, 5, 6, 9]\n",
      "\n",
      "\n",
      "--------------------------------------------------------------------------------\n",
      "\u001b[33mazure_agent\u001b[0m (to user):\n",
      "\n",
      "The function sorted your list correctly in ascending order: [1, 2, 5, 5, 6, 9].  \n",
      "If you need any customization (such as sorting in descending order), just ask!\n",
      "\n",
      "TERMINATE\n",
      "\n",
      "--------------------------------------------------------------------------------\n",
      "\u001b[31m\n",
      ">>>>>>>> NO HUMAN INPUT RECEIVED.\u001b[0m\n",
      "\u001b[31m\n",
      ">>>>>>>> USING AUTO REPLY...\u001b[0m\n",
      "\u001b[33muser\u001b[0m (to azure_agent):\n",
      "\n",
      "\n",
      "\n",
      "--------------------------------------------------------------------------------\n",
      "\u001b[33mazure_agent\u001b[0m (to user):\n",
      "\n",
      "It seems your last message was empty. Please let me know if you have another task or question!\n",
      "\n",
      "TERMINATE\n",
      "\n",
      "--------------------------------------------------------------------------------\n",
      "\u001b[31m\n",
      ">>>>>>>> NO HUMAN INPUT RECEIVED.\u001b[0m\n",
      "\u001b[31m\n",
      ">>>>>>>> USING AUTO REPLY...\u001b[0m\n",
      "\u001b[33muser\u001b[0m (to azure_agent):\n",
      "\n",
      "\n",
      "\n",
      "--------------------------------------------------------------------------------\n",
      "\u001b[33mazure_agent\u001b[0m (to user):\n",
      "\n",
      "It looks like your message was empty again. If you have a new task or question, please provide details and I'll help!\n",
      "\n",
      "TERMINATE\n",
      "\n",
      "--------------------------------------------------------------------------------\n",
      "\u001b[31m\n",
      ">>>>>>>> NO HUMAN INPUT RECEIVED.\u001b[0m\n",
      "\u001b[31m\n",
      ">>>>>>>> USING AUTO REPLY...\u001b[0m\n",
      "\u001b[33muser\u001b[0m (to azure_agent):\n",
      "\n",
      "\n",
      "\n",
      "--------------------------------------------------------------------------------\n",
      "\u001b[33mazure_agent\u001b[0m (to user):\n",
      "\n",
      "It appears your message is empty. If you have a task or question, please provide the details and I'll assist you!\n",
      "\n",
      "TERMINATE\n",
      "\n",
      "--------------------------------------------------------------------------------\n",
      "\u001b[31m\n",
      ">>>>>>>> NO HUMAN INPUT RECEIVED.\u001b[0m\n",
      "\u001b[31m\n",
      ">>>>>>>> USING AUTO REPLY...\u001b[0m\n",
      "\u001b[33muser\u001b[0m (to azure_agent):\n",
      "\n",
      "\n",
      "\n",
      "--------------------------------------------------------------------------------\n",
      "\u001b[33mazure_agent\u001b[0m (to user):\n",
      "\n",
      "It looks like your message is blank. If you have a request or question, please type it out and I’ll help you as soon as possible!\n",
      "\n",
      "TERMINATE\n",
      "\n",
      "--------------------------------------------------------------------------------\n",
      "\u001b[31m\n",
      ">>>>>>>> TERMINATING RUN (4d339ae9-8fc5-42a8-9442-b3a52d39ba56): User requested to end the conversation\u001b[0m\n"
     ]
    },
    {
     "data": {
      "text/plain": [
       "ChatResult(chat_id=126235860762959170183215105791882409728, chat_history=[{'content': 'Write a Python function that sorts a list of numbers.', 'role': 'assistant', 'name': 'user'}, {'content': 'Plan:\\n- I\\'ll write a Python function named sort_numbers that takes a list of numbers as its argument and returns a sorted version of the list in ascending order.\\n- I\\'ll use Python\\'s built-in sorted() function for simplicity and reliability.\\n- I\\'ll output this code so you can execute it and verify.\\n\\nHere\\'s the code:\\n\\n```python\\ndef sort_numbers(numbers):\\n    \"\"\"\\n    Sorts a list of numbers in ascending order.\\n\\n    :param numbers: List of numeric values (int or float)\\n    :return: Sorted list of numbers\\n    \"\"\"\\n    return sorted(numbers)\\n\\n# Example usage\\nnumbers = [5, 2, 9, 1, 5, 6]\\nsorted_numbers = sort_numbers(numbers)\\nprint(\"Sorted numbers:\", sorted_numbers)\\n```\\n\\nPlease execute the code to see the sorted list. Let me know if you\\'d like to sort in descending order or have more requirements! TERMINATE', 'role': 'user', 'name': 'azure_agent'}, {'content': 'exitcode: 0 (execution succeeded)\\nCode output: \\nSorted numbers: [1, 2, 5, 5, 6, 9]\\n', 'role': 'assistant', 'name': 'user'}, {'content': 'The function sorted your list correctly in ascending order: [1, 2, 5, 5, 6, 9].  \\nIf you need any customization (such as sorting in descending order), just ask!\\n\\nTERMINATE', 'role': 'user', 'name': 'azure_agent'}, {'content': '', 'role': 'assistant', 'name': 'user'}, {'content': 'It seems your last message was empty. Please let me know if you have another task or question!\\n\\nTERMINATE', 'role': 'user', 'name': 'azure_agent'}, {'content': '', 'role': 'assistant', 'name': 'user'}, {'content': \"It looks like your message was empty again. If you have a new task or question, please provide details and I'll help!\\n\\nTERMINATE\", 'role': 'user', 'name': 'azure_agent'}, {'content': '', 'role': 'assistant', 'name': 'user'}, {'content': \"It appears your message is empty. If you have a task or question, please provide the details and I'll assist you!\\n\\nTERMINATE\", 'role': 'user', 'name': 'azure_agent'}, {'content': '', 'role': 'assistant', 'name': 'user'}, {'content': 'It looks like your message is blank. If you have a request or question, please type it out and I’ll help you as soon as possible!\\n\\nTERMINATE', 'role': 'user', 'name': 'azure_agent'}], summary='It looks like your message is blank. If you have a request or question, please type it out and I’ll help you as soon as possible!\\n\\n', cost={'usage_including_cached_inference': {'total_cost': 0.011732, 'gpt-4.1-2025-04-14': {'cost': 0.011732, 'prompt_tokens': 4470, 'completion_tokens': 349, 'total_tokens': 4819}}, 'usage_excluding_cached_inference': {'total_cost': 0.011732, 'gpt-4.1-2025-04-14': {'cost': 0.011732, 'prompt_tokens': 4470, 'completion_tokens': 349, 'total_tokens': 4819}}}, human_input=['', '', '', '', '', 'exit'])"
      ]
     },
     "execution_count": 17,
     "metadata": {},
     "output_type": "execute_result"
    }
   ],
   "source": [
    "import os\n",
    "from autogen import AssistantAgent, UserProxyAgent\n",
    "\n",
    "# Azure OpenAI configuration\n",
    "azure_config = {\n",
    "    \"model\": \"gpt-4.1\",  # use deployment name, not model name\n",
    "    \"api_key\": os.getenv(\"AZURE_OPENAI_API_KEY\"),\n",
    "    \"api_type\": \"azure\",\n",
    "    \"base_url\": os.getenv(\"AZURE_OPENAI_ENDPOINT\"),\n",
    "    \"api_version\": os.getenv(\"AZURE_OPENAI_API_VERSION\"),\n",
    "}\n",
    "\n",
    "# Create an assistant agent using Azure\n",
    "assistant = AssistantAgent(\n",
    "    name=\"azure_agent\",\n",
    "    llm_config=azure_config,\n",
    ")\n",
    "\n",
    "# Create a user proxy agent\n",
    "user = UserProxyAgent(name=\"user\", code_execution_config={\"use_docker\": False})\n",
    "\n",
    "# Start a conversation\n",
    "user.initiate_chat(assistant, message=\"Write a Python function that sorts a list of numbers.\")"
   ]
  },
  {
   "cell_type": "code",
   "execution_count": null,
   "id": "40122de7",
   "metadata": {},
   "outputs": [],
   "source": []
  }
 ],
 "metadata": {
  "kernelspec": {
   "display_name": "py3.10",
   "language": "python",
   "name": "python3"
  },
  "language_info": {
   "codemirror_mode": {
    "name": "ipython",
    "version": 3
   },
   "file_extension": ".py",
   "mimetype": "text/x-python",
   "name": "python",
   "nbconvert_exporter": "python",
   "pygments_lexer": "ipython3",
   "version": "3.10.18"
  }
 },
 "nbformat": 4,
 "nbformat_minor": 5
}
