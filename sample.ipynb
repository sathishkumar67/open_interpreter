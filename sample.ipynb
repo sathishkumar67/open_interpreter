{
 "cells": [
  {
   "cell_type": "code",
   "execution_count": 6,
   "id": "2beca7a3",
   "metadata": {},
   "outputs": [],
   "source": [
    "from interpreter import interpreter\n",
    "from interpreter.utils import take_screenshot\n",
    "import os"
   ]
  },
  {
   "cell_type": "code",
   "execution_count": 3,
   "id": "1e2cd7d2",
   "metadata": {},
   "outputs": [],
   "source": [
    "SYSTEM_PROMPT = \"\"\"\n",
    "You are an expert GUI automation agent that performs tasks in web browsers. \n",
    "You analyze screenshots and user queries to determine the exact sequence of actions needed.\n",
    "You can only interact with the GUI using keyboard actions. So use keyboard shortcuts to navigate and perform tasks.\n",
    "When typing mention where you are typing (e.g., address bar, search box, form field).\n",
    "Process Flow:\n",
    "    1. Analyze the current screenshot and query to understand the task\n",
    "    2. Reason step-by-step about required actions to take based on the current screen state.\n",
    "    3. After reasoning all the steps, you will describe and execute one action by outputting a JSON object with the required action.\n",
    "    4. Wait for a new screenshot to be provided. Use this screenshot to check if the action was successful before continuing with the next action. If the action was not successful, adjust your approach based on the new screenshot.\n",
    "    5. Output plain text when keyboard actions are not required.\n",
    "    6. Repeat steps 1-5 until the task is complete.\n",
    "    7. Once the task is complete based on the current screenshot, explain what you did and why, then output {\"tool\": \"task_complete\"} to indicate the task is done.\n",
    "Output Format:\n",
    "    1. For reasoning steps: Output plain text describing your thought process based on the current screenshot.\n",
    "    2. For keyboard actions: Output description of the action being taken based on the current screenshot and the python code to execute the action based on the current screenshot.\n",
    "program: \n",
    "    1. Use the pyautogui library to perform keyboard actions. \n",
    "    2. Import pyautogui at the start of your program.\n",
    "    3. Use pyautogui.hotkey() for keyboard shortcuts. \n",
    "    4. When typing go to the appropriate field first (e.g., address bar) then use pyautogui.write() to type.\n",
    "Important Notes:\n",
    "    1. Always analyze the current screenshot before taking any action.\n",
    "    2. If an action does not lead to the expected result of the task, adjust your approach based on the new screenshot.\"\"\""
   ]
  },
  {
   "cell_type": "code",
   "execution_count": 9,
   "id": "7eac7309",
   "metadata": {},
   "outputs": [
    {
     "data": {
      "text/html": [
       "<pre style=\"white-space:pre;overflow-x:auto;line-height:normal;font-family:Menlo,'DejaVu Sans Mono',consolas,'Courier New',monospace\"></pre>\n"
      ],
      "text/plain": []
     },
     "metadata": {},
     "output_type": "display_data"
    },
    {
     "data": {
      "text/html": [
       "<pre style=\"white-space:pre;overflow-x:auto;line-height:normal;font-family:Menlo,'DejaVu Sans Mono',consolas,'Courier New',monospace\"></pre>\n"
      ],
      "text/plain": []
     },
     "metadata": {},
     "output_type": "display_data"
    },
    {
     "data": {
      "text/html": [
       "<pre style=\"white-space:pre;overflow-x:auto;line-height:normal;font-family:Menlo,'DejaVu Sans Mono',consolas,'Courier New',monospace\"></pre>\n"
      ],
      "text/plain": []
     },
     "metadata": {},
     "output_type": "display_data"
    },
    {
     "data": {
      "text/html": [
       "<pre style=\"white-space:pre;overflow-x:auto;line-height:normal;font-family:Menlo,'DejaVu Sans Mono',consolas,'Courier New',monospace\"></pre>\n"
      ],
      "text/plain": []
     },
     "metadata": {},
     "output_type": "display_data"
    },
    {
     "data": {
      "text/html": [
       "<pre style=\"white-space:pre;overflow-x:auto;line-height:normal;font-family:Menlo,'DejaVu Sans Mono',consolas,'Courier New',monospace\"></pre>\n"
      ],
      "text/plain": []
     },
     "metadata": {},
     "output_type": "display_data"
    },
    {
     "data": {
      "text/html": [
       "<pre style=\"white-space:pre;overflow-x:auto;line-height:normal;font-family:Menlo,'DejaVu Sans Mono',consolas,'Courier New',monospace\"></pre>\n"
      ],
      "text/plain": []
     },
     "metadata": {},
     "output_type": "display_data"
    },
    {
     "data": {
      "text/html": [
       "<pre style=\"white-space:pre;overflow-x:auto;line-height:normal;font-family:Menlo,'DejaVu Sans Mono',consolas,'Courier New',monospace\"></pre>\n"
      ],
      "text/plain": []
     },
     "metadata": {},
     "output_type": "display_data"
    },
    {
     "data": {
      "text/html": [
       "<pre style=\"white-space:pre;overflow-x:auto;line-height:normal;font-family:Menlo,'DejaVu Sans Mono',consolas,'Courier New',monospace\"></pre>\n"
      ],
      "text/plain": []
     },
     "metadata": {},
     "output_type": "display_data"
    },
    {
     "data": {
      "text/html": [
       "<pre style=\"white-space:pre;overflow-x:auto;line-height:normal;font-family:Menlo,'DejaVu Sans Mono',consolas,'Courier New',monospace\"></pre>\n"
      ],
      "text/plain": []
     },
     "metadata": {},
     "output_type": "display_data"
    },
    {
     "data": {
      "text/html": [
       "<pre style=\"white-space:pre;overflow-x:auto;line-height:normal;font-family:Menlo,'DejaVu Sans Mono',consolas,'Courier New',monospace\"></pre>\n"
      ],
      "text/plain": []
     },
     "metadata": {},
     "output_type": "display_data"
    },
    {
     "data": {
      "text/html": [
       "<pre style=\"white-space:pre;overflow-x:auto;line-height:normal;font-family:Menlo,'DejaVu Sans Mono',consolas,'Courier New',monospace\"></pre>\n"
      ],
      "text/plain": []
     },
     "metadata": {},
     "output_type": "display_data"
    },
    {
     "data": {
      "text/html": [
       "<pre style=\"white-space:pre;overflow-x:auto;line-height:normal;font-family:Menlo,'DejaVu Sans Mono',consolas,'Courier New',monospace\">Exiting...\n",
       "</pre>\n"
      ],
      "text/plain": [
       "Exiting...\n"
      ]
     },
     "metadata": {},
     "output_type": "display_data"
    },
    {
     "ename": "SystemExit",
     "evalue": "0",
     "output_type": "error",
     "traceback": [
      "An exception has occurred, use %tb to see the full traceback.\n",
      "\u001b[1;31mSystemExit\u001b[0m\u001b[1;31m:\u001b[0m 0\n"
     ]
    },
    {
     "data": {
      "text/html": [
       "<pre style=\"white-space:pre;overflow-x:auto;line-height:normal;font-family:Menlo,'DejaVu Sans Mono',consolas,'Courier New',monospace\">c:\\Users\\sathish\\miniconda3\\envs\\py3.10\\lib\\site-packages\\IPython\\core\\interactiveshell.py:3585: UserWarning: To \n",
       "exit: use 'exit', 'quit', or Ctrl-D.\n",
       "  warn(\"To exit: use 'exit', 'quit', or Ctrl-D.\", stacklevel=1)\n",
       "</pre>\n"
      ],
      "text/plain": [
       "c:\\Users\\sathish\\miniconda3\\envs\\py3.10\\lib\\site-packages\\IPython\\core\\interactiveshell.py:3585: UserWarning: To \n",
       "exit: use 'exit', 'quit', or Ctrl-D.\n",
       "  warn(\"To exit: use 'exit', 'quit', or Ctrl-D.\", stacklevel=1)\n"
      ]
     },
     "metadata": {},
     "output_type": "display_data"
    }
   ],
   "source": [
    "# Query to ask the assistant\n",
    "query = \"Create an excel sheet of 10 students 5 subject and give them the average score and percentage in new column.\"\n",
    "\n",
    "# Safety: default to dry-run. Set this to True only when you are ready\n",
    "# for the notebook to control your keyboard/mouse.\n",
    "EXECUTE_GUI = True  # set to True to allow pyautogui actions\n",
    "\n",
    "# Take a screenshot (uses interpreter.utils.take_screenshot if available,\n",
    "# otherwise falls back to the capture_screenshot defined elsewhere in this notebook).\n",
    "screenshot_path = None\n",
    "try:\n",
    "    screenshot_path = take_screenshot()\n",
    "except Exception as e:\n",
    "    print('take_screenshot() failed, trying capture_screenshot fallback:', e)\n",
    "\n",
    "# Build the message with optional image\n",
    "message_with_image = [{\"role\": \"user\", \"type\": \"message\", \"content\": query}]\n",
    "if screenshot_path:\n",
    "    message_with_image.append({\"role\": \"user\", \"type\": \"image\", \"format\": \"path\", \"content\": screenshot_path})\n",
    "\n",
    "# Send to interpreter and capture the response\n",
    "response = interpreter.chat(message_with_image)"
   ]
  },
  {
   "cell_type": "code",
   "execution_count": null,
   "id": "d5c91327",
   "metadata": {},
   "outputs": [],
   "source": []
  },
  {
   "cell_type": "code",
   "execution_count": null,
   "metadata": {},
   "outputs": [],
   "source": []
  },
  {
   "cell_type": "code",
   "execution_count": null,
   "id": "2a8630a0",
   "metadata": {},
   "outputs": [],
   "source": []
  },
  {
   "cell_type": "code",
   "execution_count": null,
   "metadata": {},
   "outputs": [],
   "source": []
  },
  {
   "cell_type": "code",
   "execution_count": null,
   "id": "ae6d5f0f",
   "metadata": {},
   "outputs": [],
   "source": []
  },
  {
   "cell_type": "code",
   "execution_count": null,
   "id": "05d04a22",
   "metadata": {},
   "outputs": [],
   "source": []
  },
  {
   "cell_type": "code",
   "execution_count": null,
   "id": "177b1050",
   "metadata": {},
   "outputs": [],
   "source": []
  },
  {
   "cell_type": "code",
   "execution_count": null,
   "id": "4dcc9e39",
   "metadata": {},
   "outputs": [],
   "source": []
  },
  {
   "cell_type": "code",
   "execution_count": null,
   "id": "cecd4499",
   "metadata": {},
   "outputs": [],
   "source": []
  },
  {
   "cell_type": "code",
   "execution_count": null,
   "id": "2d8b69a7",
   "metadata": {},
   "outputs": [],
   "source": []
  }
 ],
 "metadata": {
  "kernelspec": {
   "display_name": "py3.10",
   "language": "python",
   "name": "python3"
  },
  "language_info": {
   "codemirror_mode": {
    "name": "ipython",
    "version": 3
   },
   "file_extension": ".py",
   "mimetype": "text/x-python",
   "name": "python",
   "nbconvert_exporter": "python",
   "pygments_lexer": "ipython3",
   "version": "3.10.18"
  }
 },
 "nbformat": 4,
 "nbformat_minor": 5
}
