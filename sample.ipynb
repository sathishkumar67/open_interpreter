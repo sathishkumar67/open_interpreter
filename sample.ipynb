{
 "cells": [
  {
   "cell_type": "code",
   "execution_count": 1,
   "id": "2beca7a3",
   "metadata": {},
   "outputs": [],
   "source": [
    "from interpreter import interpreter\n",
    "import os"
   ]
  },
  {
   "cell_type": "code",
   "execution_count": 4,
   "id": "3fc9e167",
   "metadata": {},
   "outputs": [
    {
     "data": {
      "text/html": [
       "<pre style=\"white-space:pre;overflow-x:auto;line-height:normal;font-family:Menlo,'DejaVu Sans Mono',consolas,'Courier New',monospace\"></pre>\n"
      ],
      "text/plain": []
     },
     "metadata": {},
     "output_type": "display_data"
    },
    {
     "name": "stdout",
     "output_type": "stream",
     "text": [
      "[{'role': 'assistant', 'type': 'message', 'content': 'I am a helpful AI assistant designed to answer your questions, solve problems using mathematics, and provide guidance and support. Let me know how I can assist you today!'}]\n"
     ]
    }
   ],
   "source": [
    "interpreter.llm.model = \"azure/gpt-4.1\"\n",
    "interpreter.llm.api_key = os.getenv(\"AZURE_OPENAI_API_KEY\")\n",
    "interpreter.llm.api_base = os.getenv(\"AZURE_OPENAI_ENDPOINT\")\n",
    "interpreter.llm.api_version = os.getenv(\"AZURE_OPENAI_API_VERSION\")\n",
    "interpreter.auto_run = True\n",
    "interpreter.system_message = \"You are a helpful assistant, who use maths to answer questions.\"\n",
    "\n",
    "output = interpreter.chat(\"who are you?\")\n",
    "\n",
    "print(output)"
   ]
  },
  {
   "cell_type": "code",
   "execution_count": null,
   "id": "7eac7309",
   "metadata": {},
   "outputs": [],
   "source": [
    "message_with_image = [\n",
    "        {\"role\": \"user\", \"type\": \"message\", \"content\": \"Describe this image and then, using pyautogui, press ctrl + t to open a new tab in the browser.\"},\n",
    "        {\"role\": \"user\", \"type\": \"image\", \"format\": \"path\", \"content\": image_path}\n",
    "    ]"
   ]
  },
  {
   "cell_type": "code",
   "execution_count": 7,
   "id": "21dc58c0",
   "metadata": {},
   "outputs": [
    {
     "name": "stderr",
     "output_type": "stream",
     "text": [
      "usage: ipykernel_launcher.py [-h] [--out OUT] [--region LEFT TOP WIDTH HEIGHT]\n",
      "ipykernel_launcher.py: error: unrecognized arguments: --f=c:\\Users\\sathish\\AppData\\Roaming\\jupyter\\runtime\\kernel-v3e054dfdb18a3a7b7d9753810a674c0fd16e96827.json\n"
     ]
    },
    {
     "ename": "SystemExit",
     "evalue": "2",
     "output_type": "error",
     "traceback": [
      "An exception has occurred, use %tb to see the full traceback.\n",
      "\u001b[1;31mSystemExit\u001b[0m\u001b[1;31m:\u001b[0m 2\n"
     ]
    }
   ],
   "source": [
    "import os\n",
    "import argparse\n",
    "from datetime import datetime\n",
    "from typing import Optional, Tuple\n",
    "\n",
    "# prefer mss (fast) but fallback to Pillow if unavailable\n",
    "try:\n",
    "    import mss\n",
    "    import mss.tools\n",
    "    _HAS_MSS = True\n",
    "except Exception:\n",
    "    _HAS_MSS = False\n",
    "    try:\n",
    "        from PIL import ImageGrab  # pillow fallback\n",
    "    except Exception:\n",
    "        ImageGrab = None\n",
    "\n",
    "def capture_screenshot(save_path: Optional[str] = None, region: Optional[Tuple[int, int, int, int]] = None, return_bytes: bool = False):\n",
    "    \"\"\"\n",
    "    Capture a screenshot.\n",
    "    - save_path: path to save PNG. If None, saves to cwd with timestamp.\n",
    "    - region: (left, top, width, height) or None for full screen.\n",
    "    - return_bytes: if True, returns PNG bytes; otherwise returns the save_path string.\n",
    "    This function avoids using Python 3.10+ union-type syntax so it's\n",
    "    compatible with older Python versions.\n",
    "    \"\"\"\n",
    "    if save_path is None:\n",
    "        ts = datetime.utcnow().strftime(\"%Y%m%dT%H%M%SZ\")\n",
    "        save_path = os.path.join(os.getcwd(), f\"screenshot_{ts}.png\")\n",
    "\n",
    "    if _HAS_MSS:\n",
    "        with mss.mss() as s:\n",
    "            monitor = s.monitors[1] if region is None else {\n",
    "                \"left\": int(region[0]), \"top\": int(region[1]),\n",
    "                \"width\": int(region[2]), \"height\": int(region[3])\n",
    "            }\n",
    "            s_img = s.grab(monitor)\n",
    "            mss.tools.to_png(s_img.rgb, s_img.size, output=save_path)\n",
    "    else:\n",
    "        # Pillow fallback (Windows/macOS; on some Linux configs may need X server)\n",
    "        if ImageGrab is None:\n",
    "            raise RuntimeError(\"No screenshot backend available: install 'mss' or 'pillow'\")\n",
    "        bbox = None if region is None else (int(region[0]), int(region[1]), int(region[0]) + int(region[2]), int(region[1]) + int(region[3]))\n",
    "        img = ImageGrab.grab(bbox=bbox)\n",
    "        img.save(save_path, \"PNG\")\n",
    "\n",
    "    if return_bytes:\n",
    "        with open(save_path, \"rb\") as f:\n",
    "            return f.read()\n",
    "    return save_path\n",
    "\n",
    "if __name__ == \"__main__\":\n",
    "    p = argparse.ArgumentParser(description=\"Take a screenshot and save as PNG.\")\n",
    "    p.add_argument(\"--out\", \"-o\", help=\"Output file path (defaults to cwd with timestamp).\")\n",
    "    p.add_argument(\"--region\", \"-r\", nargs=4, type=int, metavar=(\"LEFT\", \"TOP\", \"WIDTH\", \"HEIGHT\"),\n",
    "                   help=\"Region to capture: left top width height\")\n",
    "    args = p.parse_args()\n",
    "\n",
    "    path = capture_screenshot(save_path=args.out, region=tuple(args.region) if args.region else None)\n",
    "    print(path)"
   ]
  },
  {
   "cell_type": "code",
   "execution_count": null,
   "id": "37e06d80",
   "metadata": {},
   "outputs": [],
   "source": []
  }
 ],
 "metadata": {
  "kernelspec": {
   "display_name": "py3.10",
   "language": "python",
   "name": "python3"
  },
  "language_info": {
   "codemirror_mode": {
    "name": "ipython",
    "version": 3
   },
   "file_extension": ".py",
   "mimetype": "text/x-python",
   "name": "python",
   "nbconvert_exporter": "python",
   "pygments_lexer": "ipython3",
   "version": "3.10.18"
  }
 },
 "nbformat": 4,
 "nbformat_minor": 5
}
